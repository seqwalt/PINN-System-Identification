{
 "cells": [
  {
   "cell_type": "markdown",
   "metadata": {},
   "source": [
    "This script train a shallow FNN to approximated the discrete-time dynamics model of the lunar lander."
   ]
  },
  {
   "cell_type": "code",
   "execution_count": null,
   "metadata": {},
   "outputs": [],
   "source": [
    "import numpy as np\n",
    "import tensorflow as tf\n",
    "from tensorflow import keras\n",
    "import matplotlib.pyplot as plt\n",
    "from sklearn.model_selection import train_test_split"
   ]
  },
  {
   "cell_type": "code",
   "execution_count": null,
   "metadata": {},
   "outputs": [],
   "source": [
    "# read data\n",
    "\n",
    "filepath = '/Data/'\n",
    "DATA_dict = dict()\n",
    "num_traj = 40\n",
    "for i in range(num_traj):\n",
    "    num = i+1;\n",
    "    if num >= 10:\n",
    "        str_num = str(num) # no leading zero\n",
    "    else:\n",
    "        str_num = '0'+str(num) # add leading zero\n",
    "    filename = 'trajdata_'+str_num+'.csv'\n",
    "    with open(filepath+filename, 'r') as f:\n",
    "        # remove top row, and store the rest in dictionary\n",
    "        DATA_dict[i] = np.genfromtxt(f, dtype='f4', delimiter=',', skip_header=1)"
   ]
  },
  {
   "cell_type": "code",
   "execution_count": null,
   "metadata": {},
   "outputs": [],
   "source": []
  },
  {
   "cell_type": "code",
   "execution_count": null,
   "metadata": {},
   "outputs": [],
   "source": []
  },
  {
   "cell_type": "code",
   "execution_count": null,
   "metadata": {},
   "outputs": [],
   "source": [
    "# define the keras model\n",
    "# 4-3-3-3-3-3-3-3-3-3 configuration, relu and softmax activation for the\n",
    "# hidden layer and output layer respectively\n",
    "net = tf.keras.models.Sequential([\n",
    "    tf.keras.layers.Dense(3, input_dim=4, activation = 'relu'),\n",
    "    tf.keras.layers.Dense(3, activation = 'relu'),\n",
    "    tf.keras.layers.Dense(3, activation='softmax')])"
   ]
  },
  {
   "cell_type": "code",
   "execution_count": null,
   "metadata": {},
   "outputs": [],
   "source": [
    "# compile the keras model\n",
    "net.compile(loss='binary_crossentropy', optimizer='adam',metrics=['accuracy'])"
   ]
  },
  {
   "cell_type": "code",
   "execution_count": null,
   "metadata": {},
   "outputs": [],
   "source": []
  },
  {
   "cell_type": "code",
   "execution_count": null,
   "metadata": {},
   "outputs": [],
   "source": []
  }
 ],
 "metadata": {
  "kernelspec": {
   "display_name": "Python 3",
   "language": "python",
   "name": "python3"
  },
  "language_info": {
   "codemirror_mode": {
    "name": "ipython",
    "version": 3
   },
   "file_extension": ".py",
   "mimetype": "text/x-python",
   "name": "python",
   "nbconvert_exporter": "python",
   "pygments_lexer": "ipython3",
   "version": "3.7.9"
  }
 },
 "nbformat": 4,
 "nbformat_minor": 4
}
